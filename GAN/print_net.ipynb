{
 "cells": [
  {
   "cell_type": "code",
   "execution_count": 1,
   "metadata": {},
   "outputs": [],
   "source": [
    "import numpy as np\n",
    "import matplotlib.pyplot as plt\n",
    "\n",
    "import torch\n",
    "import torch.nn as nn\n",
    "import torchvision.datasets\n",
    "import torchvision.transforms as transforms\n",
    "import torchvision.utils as vutils"
   ]
  },
  {
   "cell_type": "code",
   "execution_count": 2,
   "metadata": {},
   "outputs": [],
   "source": [
    "class Generator(nn.Module):\n",
    "    def __init__(self, z_dim=100, out_dim=784):\n",
    "        super(Generator, self).__init__()\n",
    "        self.deconv1 = nn.ConvTranspose2d(z_dim, 256, kernel_size=7, stride=1, padding=0)\n",
    "        self.nonlin1 = nn.ReLU()\n",
    "        self.deconv2 = nn.ConvTranspose2d(256, 128, kernel_size=4, stride=2, padding=1)\n",
    "        self.nonlin2 = nn.ReLU()\n",
    "        self.deconv3 = nn.ConvTranspose2d(128, 1, kernel_size=4, stride=2, padding=1)\n",
    "\n",
    "    def forward(self, x):\n",
    "        x = x.view(x.size(0), -1, 1, 1)  # reshape input to (batch_size, z_dim, 1, 1)\n",
    "        h = self.nonlin1(self.deconv1(x))\n",
    "        h = self.nonlin2(self.deconv2(h))\n",
    "        out = torch.tanh(self.deconv3(h))\n",
    "        return out\n",
    "\n",
    "class Discriminator(nn.Module):\n",
    "    def __init__(self, inp_dim=784):\n",
    "        super(Discriminator, self).__init__()\n",
    "        self.conv1 = nn.Conv2d(1, 64, kernel_size=4, stride=2, padding=1)\n",
    "        self.nonlin1 = nn.LeakyReLU(0.2)\n",
    "        self.conv2 = nn.Conv2d(64, 128, kernel_size=4, stride=2, padding=1)\n",
    "        self.nonlin2 = nn.LeakyReLU(0.2)\n",
    "        self.fc = nn.Linear(7 * 7 * 128, 1)\n",
    "\n",
    "    def forward(self, x):\n",
    "        h = self.nonlin1(self.conv1(x))\n",
    "        h = self.nonlin2(self.conv2(h))\n",
    "        h = h.view(h.size(0), -1)  # flatten (batch_size, num_features)\n",
    "        out = torch.sigmoid(self.fc(h))\n",
    "        return out"
   ]
  },
  {
   "cell_type": "code",
   "execution_count": 3,
   "metadata": {},
   "outputs": [],
   "source": [
    "D = Discriminator()\n",
    "G = Generator()"
   ]
  },
  {
   "cell_type": "code",
   "execution_count": 4,
   "metadata": {},
   "outputs": [
    {
     "name": "stdout",
     "output_type": "stream",
     "text": [
      "Discriminator(\n",
      "  (conv1): Conv2d(1, 64, kernel_size=(4, 4), stride=(2, 2), padding=(1, 1))\n",
      "  (nonlin1): LeakyReLU(negative_slope=0.2)\n",
      "  (conv2): Conv2d(64, 128, kernel_size=(4, 4), stride=(2, 2), padding=(1, 1))\n",
      "  (nonlin2): LeakyReLU(negative_slope=0.2)\n",
      "  (fc): Linear(in_features=6272, out_features=1, bias=True)\n",
      ")\n",
      "Generator(\n",
      "  (deconv1): ConvTranspose2d(100, 256, kernel_size=(7, 7), stride=(1, 1))\n",
      "  (nonlin1): ReLU()\n",
      "  (deconv2): ConvTranspose2d(256, 128, kernel_size=(4, 4), stride=(2, 2), padding=(1, 1))\n",
      "  (nonlin2): ReLU()\n",
      "  (deconv3): ConvTranspose2d(128, 1, kernel_size=(4, 4), stride=(2, 2), padding=(1, 1))\n",
      ")\n"
     ]
    }
   ],
   "source": [
    "print(D)\n",
    "print(G)"
   ]
  },
  {
   "cell_type": "code",
   "execution_count": null,
   "metadata": {},
   "outputs": [],
   "source": []
  }
 ],
 "metadata": {
  "kernelspec": {
   "display_name": "Python 3",
   "language": "python",
   "name": "python3"
  },
  "language_info": {
   "codemirror_mode": {
    "name": "ipython",
    "version": 3
   },
   "file_extension": ".py",
   "mimetype": "text/x-python",
   "name": "python",
   "nbconvert_exporter": "python",
   "pygments_lexer": "ipython3",
   "version": "3.9.10"
  },
  "orig_nbformat": 4
 },
 "nbformat": 4,
 "nbformat_minor": 2
}
